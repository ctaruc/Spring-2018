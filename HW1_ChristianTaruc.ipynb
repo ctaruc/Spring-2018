{
 "cells": [
  {
   "cell_type": "markdown",
   "metadata": {},
   "source": [
    "# The Poisson Distribution and CLT"
   ]
  },
  {
   "cell_type": "markdown",
   "metadata": {},
   "source": [
    "The CLT is responsible for this remarkable result:\n",
    "\n",
    ">The distribution of a sample average tends to Normal, even when the distribution from which the average is computed is decidedly non-Normal.\n",
    "\n",
    "The distribution of an average will tend to be Normal as the sample size increases, regardless of the distribution from which the average is taken unless the moments of the parent distribution do not exist. \n",
    "\n",
    "Furthermore, this normal distribution will have the same mean as the parent distribution, AND, variance equal to the variance of the parent divided by the sample size.\n",
    "\n",
    "We examine this idea with the poisson distribution."
   ]
  },
  {
   "cell_type": "markdown",
   "metadata": {},
   "source": [
    "1. Pull 10000 observations from poisson and plot the histogram.\n",
    "\n",
    "2. Pull 10000 pairs (2-tuples) of observations and take the 2-point average. Plot a histogram of those 10000 averages.\n",
    "\n",
    "3. Pull 10000 3-tuples of observations and take the 3-point average. Plot that histogram ....\n",
    "\n",
    "4. Do so for larger n ... and we see, iteratively, how it begins to resemble a normal distribution.\n"
   ]
  },
  {
   "cell_type": "code",
   "execution_count": 111,
   "metadata": {},
   "outputs": [],
   "source": [
    "import numpy as np\n",
    "import scipy.stats as stats\n",
    "import matplotlib.pyplot as plt\n",
    "import matplotlib.mlab as mlab\n",
    "\n",
    "np.random.seed(69)"
   ]
  },
  {
   "cell_type": "code",
   "execution_count": 219,
   "metadata": {},
   "outputs": [],
   "source": [
    "x1 = np.random.poisson(1,(10000))"
   ]
  },
  {
   "cell_type": "code",
   "execution_count": 220,
   "metadata": {},
   "outputs": [
    {
     "data": {
      "text/plain": [
       "(array([  3.71500000e+03,   3.66800000e+03,   1.83000000e+03,\n",
       "          0.00000000e+00,   6.09000000e+02,   1.46000000e+02,\n",
       "          0.00000000e+00,   2.80000000e+01,   3.00000000e+00,\n",
       "          1.00000000e+00]),\n",
       " array([ 0. ,  0.7,  1.4,  2.1,  2.8,  3.5,  4.2,  4.9,  5.6,  6.3,  7. ]),\n",
       " <a list of 10 Patch objects>)"
      ]
     },
     "execution_count": 220,
     "metadata": {},
     "output_type": "execute_result"
    },
    {
     "data": {
      "image/png": "[encoded data removed]",
      "text/plain": [
       "<Figure size 432x288 with 1 Axes>"
      ]
     },
     "metadata": {},
     "output_type": "display_data"
    }
   ],
   "source": [
    "%matplotlib inline\n",
    "plt.hist(x1)"
   ]
  },
  {
   "cell_type": "code",
   "execution_count": 221,
   "metadata": {},
   "outputs": [],
   "source": [
    "vector = []\n",
    "for i in range(0,10000):\n",
    "    x2 = np.random.poisson(1,2)\n",
    "    mean = np.mean(x2)\n",
    "    vector.append(mean)"
   ]
  },
  {
   "cell_type": "code",
   "execution_count": 222,
   "metadata": {},
   "outputs": [
    {
     "data": {
      "text/plain": [
       "(array([ 1297.,  2743.,  2786.,  1771.,     0.,   892.,   347.,   123.,\n",
       "           36.,     5.]),\n",
       " array([ 0. ,  0.4,  0.8,  1.2,  1.6,  2. ,  2.4,  2.8,  3.2,  3.6,  4. ]),\n",
       " <a list of 10 Patch objects>)"
      ]
     },
     "execution_count": 222,
     "metadata": {},
     "output_type": "execute_result"
    },
    {
     "data": {
      "image/png": "[encoded data removed]",
      "text/plain": [
       "<Figure size 432x288 with 1 Axes>"
      ]
     },
     "metadata": {},
     "output_type": "display_data"
    }
   ],
   "source": [
    "plt.hist(vector)"
   ]
  },
  {
   "cell_type": "code",
   "execution_count": 224,
   "metadata": {},
   "outputs": [],
   "source": [
    "vector = []\n",
    "for i in range(0,10000):\n",
    "    x3 = np.random.poisson(1,3)\n",
    "    mean = np.mean(x3)\n",
    "    vector.append(mean)"
   ]
  },
  {
   "cell_type": "code",
   "execution_count": 225,
   "metadata": {},
   "outputs": [
    {
     "data": {
      "text/plain": [
       "(array([ 2000.,  2253.,  2245.,  1664.,   984.,   739.,    80.,    27.,\n",
       "            3.,     5.]),\n",
       " array([ 0. ,  0.4,  0.8,  1.2,  1.6,  2. ,  2.4,  2.8,  3.2,  3.6,  4. ]),\n",
       " <a list of 10 Patch objects>)"
      ]
     },
     "execution_count": 225,
     "metadata": {},
     "output_type": "execute_result"
    },
    {
     "data": {
      "image/png": "[encoded data removed]",
      "text/plain": [
       "<Figure size 432x288 with 1 Axes>"
      ]
     },
     "metadata": {},
     "output_type": "display_data"
    }
   ],
   "source": [
    "plt.hist(vector)"
   ]
  },
  {
   "cell_type": "code",
   "execution_count": 181,
   "metadata": {},
   "outputs": [],
   "source": [
    "vector = []\n",
    "for i in range(0,10000):\n",
    "    x4 = np.random.poisson(1,10000)\n",
    "    mean = np.mean(x3)\n",
    "    vector.append(mean)"
   ]
  },
  {
   "cell_type": "code",
   "execution_count": 182,
   "metadata": {},
   "outputs": [
    {
     "data": {
      "text/plain": [
       "(array([  2.00000000e+00,   3.50000000e+01,   2.77000000e+02,\n",
       "          1.02200000e+03,   2.44400000e+03,   3.04700000e+03,\n",
       "          2.14100000e+03,   8.30000000e+02,   1.71000000e+02,\n",
       "          3.10000000e+01]),\n",
       " array([ 0.9573 ,  0.96523,  0.97316,  0.98109,  0.98902,  0.99695,\n",
       "         1.00488,  1.01281,  1.02074,  1.02867,  1.0366 ]),\n",
       " <a list of 10 Patch objects>)"
      ]
     },
     "execution_count": 182,
     "metadata": {},
     "output_type": "execute_result"
    },
    {
     "data": {
      "image/png": "[encoded data removed]",
      "text/plain": [
       "<Figure size 432x288 with 1 Axes>"
      ]
     },
     "metadata": {},
     "output_type": "display_data"
    }
   ],
   "source": [
    "plt.hist(vector)"
   ]
  },
  {
   "cell_type": "markdown",
   "metadata": {},
   "source": [
    "## Checking Mean and Variance"
   ]
  },
  {
   "cell_type": "markdown",
   "metadata": {},
   "source": [
    "For X ~ Poisson($\\lambda)$,  \n",
    "the theoretical mean is found with:\n",
    "> $E[X] = \\lambda $\n",
    "\n",
    "Then $E[X] = 1$\n"
   ]
  },
  {
   "cell_type": "code",
   "execution_count": 143,
   "metadata": {},
   "outputs": [
    {
     "name": "stdout",
     "output_type": "stream",
     "text": [
      "1.00001262\n"
     ]
    }
   ],
   "source": [
    "estimatedmean = np.mean(vector)\n",
    "print(estimatedmean)"
   ]
  },
  {
   "cell_type": "markdown",
   "metadata": {},
   "source": [
    "The theoretical variance is found with:\n",
    "> $Var[X] = \\lambda$\n",
    "\n",
    "So Var[X] = 1."
   ]
  },
  {
   "cell_type": "code",
   "execution_count": 96,
   "metadata": {},
   "outputs": [
    {
     "name": "stdout",
     "output_type": "stream",
     "text": [
      "1.00830784\n"
     ]
    }
   ],
   "source": [
    "estimatedvariance = np.var(x1)\n",
    "print(estimatedvariance)"
   ]
  },
  {
   "cell_type": "markdown",
   "metadata": {},
   "source": [
    "Further, the CLT says that the average is distributed $N(E[X], \\frac{Var[X]}{n})$, or $N(1,\\frac{1}{100})$."
   ]
  },
  {
   "cell_type": "code",
   "execution_count": 130,
   "metadata": {},
   "outputs": [
    {
     "name": "stderr",
     "output_type": "stream",
     "text": [
      "/opt/conda/lib/python3.6/site-packages/ipykernel_launcher.py:2: MatplotlibDeprecationWarning: scipy.stats.norm.pdf\n",
      "  \n"
     ]
    },
    {
     "data": {
      "image/png": "[encoded data removed]",
      "text/plain": [
       "<Figure size 432x288 with 1 Axes>"
      ]
     },
     "metadata": {},
     "output_type": "display_data"
    }
   ],
   "source": [
    "x = np.linspace(.96, 1.04, 100)\n",
    "plt.plot(x,mlab.normpdf(x, 1, 1/100), '--r')\n",
    "plt.show()"
   ]
  },
  {
   "cell_type": "markdown",
   "metadata": {},
   "source": [
    "Which looks very similar to the averages."
   ]
  },
  {
   "cell_type": "code",
   "execution_count": 184,
   "metadata": {},
   "outputs": [
    {
     "data": {
      "text/plain": [
       "(array([  2.00000000e+00,   3.50000000e+01,   2.77000000e+02,\n",
       "          1.02200000e+03,   2.44400000e+03,   3.04700000e+03,\n",
       "          2.14100000e+03,   8.30000000e+02,   1.71000000e+02,\n",
       "          3.10000000e+01]),\n",
       " array([ 0.9573 ,  0.96523,  0.97316,  0.98109,  0.98902,  0.99695,\n",
       "         1.00488,  1.01281,  1.02074,  1.02867,  1.0366 ]),\n",
       " <a list of 10 Patch objects>)"
      ]
     },
     "execution_count": 184,
     "metadata": {},
     "output_type": "execute_result"
    },
    {
     "data": {
      "image/png": "[encoded data removed]",
      "text/plain": [
       "<Figure size 432x288 with 1 Axes>"
      ]
     },
     "metadata": {},
     "output_type": "display_data"
    }
   ],
   "source": [
    "plt.hist(vector)"
   ]
  },
  {
   "cell_type": "markdown",
   "metadata": {},
   "source": [
    "## Constructing a Confidence Interval"
   ]
  },
  {
   "cell_type": "markdown",
   "metadata": {},
   "source": [
    "The empirical Confidence Interval can be constructed with:\n",
    "> ($\\frac{\\bar{X} - \\tau_{N,\\alpha}S}{\\sqrt{N}},\\frac{\\bar{X} + \\tau_{N,\\alpha}S}{\\sqrt{N}}) $\n",
    "\n",
    "where $\\bar{X}$ is the sample mean, S is the sample standard deviation, N is the sample size, and $\\tau_{N,\\alpha}$ comes from the t distribution. "
   ]
  },
  {
   "cell_type": "code",
   "execution_count": 212,
   "metadata": {},
   "outputs": [
    {
     "name": "stdout",
     "output_type": "stream",
     "text": [
      "( 0.968314710406 , 1.03181792959 )\n"
     ]
    }
   ],
   "source": [
    "lower = (np.mean(vector) - stats.t.pdf(.05,1)*1/10)\n",
    "upper = (np.mean(vector) + stats.t.pdf(.05,1)*1/10)\n",
    "\n",
    "print(\"(\",lower,\",\",upper,\")\")"
   ]
  },
  {
   "cell_type": "markdown",
   "metadata": {},
   "source": [
    "Now we check how often our random samples are outside these intervals."
   ]
  },
  {
   "cell_type": "code",
   "execution_count": 213,
   "metadata": {},
   "outputs": [
    {
     "name": "stdout",
     "output_type": "stream",
     "text": [
      "13\n"
     ]
    },
    {
     "data": {
      "text/plain": [
       "0.0013"
      ]
     },
     "execution_count": 213,
     "metadata": {},
     "output_type": "execute_result"
    }
   ],
   "source": [
    "count = 0\n",
    "for i in vector:\n",
    "    if i < lower or i > upper:\n",
    "        count += 1\n",
    "        \n",
    "print(count)\n",
    "count/len(vector)"
   ]
  },
  {
   "cell_type": "markdown",
   "metadata": {},
   "source": [
    "We see that there are only 13 values outside the confidence interval."
   ]
  }
 ],
 "metadata": {
  "kernelspec": {
   "display_name": "Python 3",
   "language": "python",
   "name": "python3"
  },
  "language_info": {
   "codemirror_mode": {
    "name": "ipython",
    "version": 3
   },
   "file_extension": ".py",
   "mimetype": "text/x-python",
   "name": "python",
   "nbconvert_exporter": "python",
   "pygments_lexer": "ipython3",
   "version": "3.6.5"
  }
 },
 "nbformat": 4,
 "nbformat_minor": 2
}
